{
 "cells": [
  {
   "cell_type": "markdown",
   "metadata": {
    "id": "2kXYrooJ_Sjy"
   },
   "source": [
    "**Общая информация**\n",
    "\n",
    "**Срок сдачи:** 29 марта 2021, 08:30 \n",
    "\n",
    "**Штраф за опоздание:** по 1 баллу за 24 часа задержки. Через 5 дней домашнее задание сгорает.\n",
    "\n",
    "При отправлении ДЗ указывайте фамилию в названии файла\n",
    "Присылать ДЗ необходимо в виде ссылки на свой github репозиторий на почту ml1.sphere@mail.ru с указанием темы в следующем формате:\n",
    "\n",
    "[ML0220, Задание 1] Фамилия Имя.\n",
    "\n",
    "Используйте данный Ipython Notebook при оформлении домашнего задания."
   ]
  },
  {
   "cell_type": "markdown",
   "metadata": {
    "id": "moMVdgL4_Sj4"
   },
   "source": [
    "\n",
    "**Штрафные баллы:**\n",
    "\n",
    "1. Отсутствие фамилии в имени скрипта (скрипт должен называться по аналогии со stroykova_hw1.ipynb) -0.5 баллов\n",
    "2. Все строчки должны быть выполнены. Нужно, чтобы output команды можно было увидеть уже в git'е. В противном случае -0.5 баллов\n"
   ]
  },
  {
   "cell_type": "code",
   "execution_count": 1,
   "metadata": {
    "executionInfo": {
     "elapsed": 2862,
     "status": "ok",
     "timestamp": 1616948323482,
     "user": {
      "displayName": "Илья Масс",
      "photoUrl": "https://lh3.googleusercontent.com/a-/AOh14GjM5Fjc7m_HIEisgp40fqxYlhZv3a1KT_fvSvN0QQ=s64",
      "userId": "12667925809638384937"
     },
     "user_tz": -180
    },
    "id": "kugzGlCG_Sj5",
    "scrolled": true
   },
   "outputs": [],
   "source": [
    "import numpy as np\n",
    "import matplotlib.pyplot as plt\n",
    "\n",
    "import seaborn as sns\n",
    "from sklearn import datasets\n",
    "from sklearn.base import BaseEstimator\n",
    "from sklearn.model_selection import train_test_split\n",
    "from sklearn.neighbors import KNeighborsClassifier\n",
    "from sklearn.neighbors import KDTree\n",
    "from sklearn.metrics import accuracy_score\n",
    "import scipy as scp"
   ]
  },
  {
   "cell_type": "code",
   "execution_count": 2,
   "metadata": {
    "executionInfo": {
     "elapsed": 935,
     "status": "ok",
     "timestamp": 1616948326071,
     "user": {
      "displayName": "Илья Масс",
      "photoUrl": "https://lh3.googleusercontent.com/a-/AOh14GjM5Fjc7m_HIEisgp40fqxYlhZv3a1KT_fvSvN0QQ=s64",
      "userId": "12667925809638384937"
     },
     "user_tz": -180
    },
    "id": "hiZ5qU2IzOVx"
   },
   "outputs": [],
   "source": [
    "from sklearn.datasets import fetch_20newsgroups"
   ]
  },
  {
   "cell_type": "markdown",
   "metadata": {
    "id": "gCpnEl6X_Sj5"
   },
   "source": [
    "##### Задание 1 (1 балл)\n",
    "Реализовать KNN в классе MyKNeighborsClassifier (обязательное условие: точность не ниже sklearn реализации)\n",
    "Разберитесь самостоятельно, какая мера расстояния используется в KNeighborsClassifier дефолтно и реализуйте свой алгоритм именно с этой мерой. \n",
    "Для подсчета расстояний можно использовать функции [отсюда](https://docs.scipy.org/doc/scipy/reference/spatial.distance.html)"
   ]
  },
  {
   "cell_type": "code",
   "execution_count": 3,
   "metadata": {
    "executionInfo": {
     "elapsed": 647,
     "status": "ok",
     "timestamp": 1616948426751,
     "user": {
      "displayName": "Илья Масс",
      "photoUrl": "https://lh3.googleusercontent.com/a-/AOh14GjM5Fjc7m_HIEisgp40fqxYlhZv3a1KT_fvSvN0QQ=s64",
      "userId": "12667925809638384937"
     },
     "user_tz": -180
    },
    "id": "bHppZp5x_Sj5"
   },
   "outputs": [],
   "source": [
    "def mostpopular(neighbors):\n",
    "        return np.argmax(np.bincount(neighbors))\n",
    "\n",
    "    \n",
    "class MyKNeighborsClassifier(BaseEstimator):\n",
    "    \n",
    "    def __init__(self, n_neighbors, algorithm='brute'):\n",
    "        self.n_neighbors = n_neighbors\n",
    "        self.algorithm = algorithm\n",
    "    \n",
    "    def fit(self, X, y):\n",
    "        self.X = X\n",
    "        self.y = y\n",
    "    \n",
    "    def predict(self, X):\n",
    "        if(self.algorithm == 'brute'):\n",
    "            dist = scp.spatial.distance.cdist(X, self.X, metric = \"minkowski\")\n",
    "            k_neighbors_indices = np.argpartition(dist, self.n_neighbors, axis=1)\n",
    "            k_neighbors_indices = k_neighbors_indices[:,:self.n_neighbors]\n",
    "        if(self.algorithm == 'kd_tree'):\n",
    "            tree = KDTree(self.X)\n",
    "            dist, k_neighbors_indices = tree.query(X, k = self.n_neighbors)\n",
    "        k_neighbors = self.y[k_neighbors_indices]\n",
    "        answer = np.apply_along_axis(mostpopular, axis=1, arr=k_neighbors)\n",
    "        return answer\n",
    "            \n",
    "            "
   ]
  },
  {
   "cell_type": "markdown",
   "metadata": {
    "id": "6drAa8UN_Sj6"
   },
   "source": [
    "**IRIS**\n",
    "\n",
    "В библиотеке scikit-learn есть несколько датасетов из коробки. Один из них [Ирисы Фишера](https://ru.wikipedia.org/wiki/%D0%98%D1%80%D0%B8%D1%81%D1%8B_%D0%A4%D0%B8%D1%88%D0%B5%D1%80%D0%B0)"
   ]
  },
  {
   "cell_type": "code",
   "execution_count": 4,
   "metadata": {
    "executionInfo": {
     "elapsed": 594,
     "status": "ok",
     "timestamp": 1616948369813,
     "user": {
      "displayName": "Илья Масс",
      "photoUrl": "https://lh3.googleusercontent.com/a-/AOh14GjM5Fjc7m_HIEisgp40fqxYlhZv3a1KT_fvSvN0QQ=s64",
      "userId": "12667925809638384937"
     },
     "user_tz": -180
    },
    "id": "VZsKVu1E_Sj6"
   },
   "outputs": [],
   "source": [
    "iris = datasets.load_iris()"
   ]
  },
  {
   "cell_type": "code",
   "execution_count": 5,
   "metadata": {
    "executionInfo": {
     "elapsed": 741,
     "status": "ok",
     "timestamp": 1616948371717,
     "user": {
      "displayName": "Илья Масс",
      "photoUrl": "https://lh3.googleusercontent.com/a-/AOh14GjM5Fjc7m_HIEisgp40fqxYlhZv3a1KT_fvSvN0QQ=s64",
      "userId": "12667925809638384937"
     },
     "user_tz": -180
    },
    "id": "OrD0Hwr4_Sj6"
   },
   "outputs": [],
   "source": [
    "X_train, X_test, y_train, y_test = train_test_split(iris.data, iris.target, test_size=0.1, stratify=iris.target)"
   ]
  },
  {
   "cell_type": "code",
   "execution_count": 6,
   "metadata": {
    "executionInfo": {
     "elapsed": 615,
     "status": "ok",
     "timestamp": 1616948372654,
     "user": {
      "displayName": "Илья Масс",
      "photoUrl": "https://lh3.googleusercontent.com/a-/AOh14GjM5Fjc7m_HIEisgp40fqxYlhZv3a1KT_fvSvN0QQ=s64",
      "userId": "12667925809638384937"
     },
     "user_tz": -180
    },
    "id": "wUMuH8ad_Sj7"
   },
   "outputs": [],
   "source": [
    "clf = KNeighborsClassifier(n_neighbors=2, algorithm='brute')\n",
    "my_clf = MyKNeighborsClassifier(n_neighbors=2, algorithm='brute')"
   ]
  },
  {
   "cell_type": "code",
   "execution_count": 7,
   "metadata": {
    "executionInfo": {
     "elapsed": 737,
     "status": "ok",
     "timestamp": 1616948373917,
     "user": {
      "displayName": "Илья Масс",
      "photoUrl": "https://lh3.googleusercontent.com/a-/AOh14GjM5Fjc7m_HIEisgp40fqxYlhZv3a1KT_fvSvN0QQ=s64",
      "userId": "12667925809638384937"
     },
     "user_tz": -180
    },
    "id": "Kki9qcK9_Sj7"
   },
   "outputs": [],
   "source": [
    "clf.fit(X_train, y_train)\n",
    "my_clf.fit(X_train, y_train)"
   ]
  },
  {
   "cell_type": "code",
   "execution_count": 8,
   "metadata": {
    "colab": {
     "base_uri": "https://localhost:8080/",
     "height": 316
    },
    "executionInfo": {
     "elapsed": 656,
     "status": "error",
     "timestamp": 1616948374842,
     "user": {
      "displayName": "Илья Масс",
      "photoUrl": "https://lh3.googleusercontent.com/a-/AOh14GjM5Fjc7m_HIEisgp40fqxYlhZv3a1KT_fvSvN0QQ=s64",
      "userId": "12667925809638384937"
     },
     "user_tz": -180
    },
    "id": "gHjniBFvzOVz",
    "outputId": "fddc263f-74ca-41fa-9120-7dc9d52999a9",
    "scrolled": true
   },
   "outputs": [],
   "source": [
    "my_clf_pred = my_clf.predict(X_test)"
   ]
  },
  {
   "cell_type": "code",
   "execution_count": 9,
   "metadata": {
    "executionInfo": {
     "elapsed": 595,
     "status": "ok",
     "timestamp": 1616948358073,
     "user": {
      "displayName": "Илья Масс",
      "photoUrl": "https://lh3.googleusercontent.com/a-/AOh14GjM5Fjc7m_HIEisgp40fqxYlhZv3a1KT_fvSvN0QQ=s64",
      "userId": "12667925809638384937"
     },
     "user_tz": -180
    },
    "id": "jC6toEsg_Sj7"
   },
   "outputs": [],
   "source": [
    "sklearn_pred = clf.predict(X_test)\n",
    "my_clf_pred = my_clf.predict(X_test)\n",
    "assert abs( accuracy_score(y_test, my_clf_pred) -  accuracy_score(y_test, sklearn_pred ) )<0.005, \"Score must be simillar\""
   ]
  },
  {
   "cell_type": "markdown",
   "metadata": {
    "id": "9NyzNNY__Sj7"
   },
   "source": [
    "**Задание 2 (0.5 балла)**\n",
    "\n",
    "Давайте попробуем добиться скорости работы на fit, predict сравнимой со sklearn для iris. Допускается замедление не более чем в 2 раза. \n",
    "Для этого используем numpy. "
   ]
  },
  {
   "cell_type": "code",
   "execution_count": 10,
   "metadata": {
    "colab": {
     "base_uri": "https://localhost:8080/"
    },
    "executionInfo": {
     "elapsed": 419,
     "status": "ok",
     "timestamp": 1616934428251,
     "user": {
      "displayName": "Илья Масс",
      "photoUrl": "https://lh3.googleusercontent.com/a-/AOh14GjM5Fjc7m_HIEisgp40fqxYlhZv3a1KT_fvSvN0QQ=s64",
      "userId": "12667925809638384937"
     },
     "user_tz": -180
    },
    "id": "YgRPCyuS_Sj8",
    "outputId": "d24bab1d-9c5a-4823-82ee-3a718afa028a"
   },
   "outputs": [
    {
     "name": "stdout",
     "output_type": "stream",
     "text": [
      "CPU times: user 756 µs, sys: 791 µs, total: 1.55 ms\n",
      "Wall time: 1.18 ms\n"
     ]
    },
    {
     "data": {
      "text/plain": [
       "KNeighborsClassifier(algorithm='brute', n_neighbors=2)"
      ]
     },
     "execution_count": 10,
     "metadata": {},
     "output_type": "execute_result"
    }
   ],
   "source": [
    "%time clf.fit(X_train, y_train)"
   ]
  },
  {
   "cell_type": "code",
   "execution_count": 11,
   "metadata": {
    "colab": {
     "base_uri": "https://localhost:8080/"
    },
    "executionInfo": {
     "elapsed": 623,
     "status": "ok",
     "timestamp": 1616934429629,
     "user": {
      "displayName": "Илья Масс",
      "photoUrl": "https://lh3.googleusercontent.com/a-/AOh14GjM5Fjc7m_HIEisgp40fqxYlhZv3a1KT_fvSvN0QQ=s64",
      "userId": "12667925809638384937"
     },
     "user_tz": -180
    },
    "id": "O2bRSvVD_Sj8",
    "outputId": "85510a6f-7cbf-4a90-bb77-69e08745c131"
   },
   "outputs": [
    {
     "name": "stdout",
     "output_type": "stream",
     "text": [
      "CPU times: user 2 µs, sys: 2 µs, total: 4 µs\n",
      "Wall time: 6.68 µs\n"
     ]
    }
   ],
   "source": [
    "%time my_clf.fit(X_train, y_train)"
   ]
  },
  {
   "cell_type": "code",
   "execution_count": 12,
   "metadata": {
    "colab": {
     "base_uri": "https://localhost:8080/"
    },
    "executionInfo": {
     "elapsed": 695,
     "status": "ok",
     "timestamp": 1616934431010,
     "user": {
      "displayName": "Илья Масс",
      "photoUrl": "https://lh3.googleusercontent.com/a-/AOh14GjM5Fjc7m_HIEisgp40fqxYlhZv3a1KT_fvSvN0QQ=s64",
      "userId": "12667925809638384937"
     },
     "user_tz": -180
    },
    "id": "9MoNye0t_Sj8",
    "outputId": "9ca8d058-62e1-46e9-bd19-1f8867f08179"
   },
   "outputs": [
    {
     "name": "stdout",
     "output_type": "stream",
     "text": [
      "CPU times: user 4.02 ms, sys: 712 µs, total: 4.73 ms\n",
      "Wall time: 3.18 ms\n"
     ]
    },
    {
     "data": {
      "text/plain": [
       "array([0, 2, 2, 1, 0, 2, 1, 2, 1, 1, 2, 0, 0, 0, 1])"
      ]
     },
     "execution_count": 12,
     "metadata": {},
     "output_type": "execute_result"
    }
   ],
   "source": [
    "%time clf.predict(X_test)"
   ]
  },
  {
   "cell_type": "code",
   "execution_count": 13,
   "metadata": {
    "colab": {
     "base_uri": "https://localhost:8080/"
    },
    "executionInfo": {
     "elapsed": 795,
     "status": "ok",
     "timestamp": 1616934433052,
     "user": {
      "displayName": "Илья Масс",
      "photoUrl": "https://lh3.googleusercontent.com/a-/AOh14GjM5Fjc7m_HIEisgp40fqxYlhZv3a1KT_fvSvN0QQ=s64",
      "userId": "12667925809638384937"
     },
     "user_tz": -180
    },
    "id": "keA_mZ-R_Sj8",
    "outputId": "8ad467f9-37ab-4ff3-9e7f-bb633fd4cd83"
   },
   "outputs": [
    {
     "name": "stdout",
     "output_type": "stream",
     "text": [
      "CPU times: user 1.19 ms, sys: 1.22 ms, total: 2.42 ms\n",
      "Wall time: 1.51 ms\n"
     ]
    },
    {
     "data": {
      "text/plain": [
       "array([0, 2, 2, 1, 0, 2, 1, 2, 1, 1, 2, 0, 0, 0, 1])"
      ]
     },
     "execution_count": 13,
     "metadata": {},
     "output_type": "execute_result"
    }
   ],
   "source": [
    "%time my_clf.predict(X_test)"
   ]
  },
  {
   "cell_type": "markdown",
   "metadata": {
    "id": "ap01kwiw_Sj8"
   },
   "source": [
    "###### Задание 3 (1 балл)\n",
    "Добавьте algorithm='kd_tree' в реализацию KNN (использовать KDTree из sklearn.neighbors). Необходимо добиться скорости работы на fit,  predict сравнимой со sklearn для iris. Допускается замедление не более чем в 2 раза. \n",
    "Для этого используем numpy. Точность не должна уступать значению KNN из sklearn. "
   ]
  },
  {
   "cell_type": "code",
   "execution_count": 14,
   "metadata": {
    "id": "dpgUHhkm_Sj9"
   },
   "outputs": [],
   "source": [
    "clf = KNeighborsClassifier(n_neighbors=2, algorithm='kd_tree')\n",
    "my_clf = MyKNeighborsClassifier(n_neighbors=2, algorithm='kd_tree')"
   ]
  },
  {
   "cell_type": "code",
   "execution_count": 15,
   "metadata": {
    "id": "a7Ut940r_Sj9"
   },
   "outputs": [],
   "source": [
    "X_train, X_test, y_train, y_test = train_test_split(iris.data, iris.target, test_size=0.1, stratify=iris.target)"
   ]
  },
  {
   "cell_type": "code",
   "execution_count": 16,
   "metadata": {
    "colab": {
     "base_uri": "https://localhost:8080/"
    },
    "executionInfo": {
     "elapsed": 379,
     "status": "ok",
     "timestamp": 1616934438056,
     "user": {
      "displayName": "Илья Масс",
      "photoUrl": "https://lh3.googleusercontent.com/a-/AOh14GjM5Fjc7m_HIEisgp40fqxYlhZv3a1KT_fvSvN0QQ=s64",
      "userId": "12667925809638384937"
     },
     "user_tz": -180
    },
    "id": "TN2Xep2u_Sj9",
    "outputId": "ff75a54f-754b-4104-eed2-f8fdd4084d47"
   },
   "outputs": [
    {
     "name": "stdout",
     "output_type": "stream",
     "text": [
      "CPU times: user 1.57 ms, sys: 430 µs, total: 2 ms\n",
      "Wall time: 1.48 ms\n"
     ]
    },
    {
     "data": {
      "text/plain": [
       "KNeighborsClassifier(algorithm='kd_tree', n_neighbors=2)"
      ]
     },
     "execution_count": 16,
     "metadata": {},
     "output_type": "execute_result"
    }
   ],
   "source": [
    "%time clf.fit(X_train, y_train)"
   ]
  },
  {
   "cell_type": "code",
   "execution_count": 17,
   "metadata": {
    "colab": {
     "base_uri": "https://localhost:8080/"
    },
    "executionInfo": {
     "elapsed": 709,
     "status": "ok",
     "timestamp": 1616934439643,
     "user": {
      "displayName": "Илья Масс",
      "photoUrl": "https://lh3.googleusercontent.com/a-/AOh14GjM5Fjc7m_HIEisgp40fqxYlhZv3a1KT_fvSvN0QQ=s64",
      "userId": "12667925809638384937"
     },
     "user_tz": -180
    },
    "id": "t0h8sMv0_Sj9",
    "outputId": "1233a419-a779-460b-f116-e5b2d4b038ae"
   },
   "outputs": [
    {
     "name": "stdout",
     "output_type": "stream",
     "text": [
      "CPU times: user 5 µs, sys: 4 µs, total: 9 µs\n",
      "Wall time: 15 µs\n"
     ]
    }
   ],
   "source": [
    "%time my_clf.fit(X_train, y_train)"
   ]
  },
  {
   "cell_type": "code",
   "execution_count": 18,
   "metadata": {
    "colab": {
     "base_uri": "https://localhost:8080/"
    },
    "executionInfo": {
     "elapsed": 395,
     "status": "ok",
     "timestamp": 1616934440413,
     "user": {
      "displayName": "Илья Масс",
      "photoUrl": "https://lh3.googleusercontent.com/a-/AOh14GjM5Fjc7m_HIEisgp40fqxYlhZv3a1KT_fvSvN0QQ=s64",
      "userId": "12667925809638384937"
     },
     "user_tz": -180
    },
    "id": "rzIVP3VK_Sj9",
    "outputId": "78f1a79e-5f9b-4337-e85a-4513cf6e3956",
    "scrolled": true
   },
   "outputs": [
    {
     "name": "stdout",
     "output_type": "stream",
     "text": [
      "CPU times: user 4.04 ms, sys: 3.84 ms, total: 7.88 ms\n",
      "Wall time: 6.23 ms\n"
     ]
    },
    {
     "data": {
      "text/plain": [
       "array([2, 2, 1, 2, 1, 2, 0, 0, 1, 0, 1, 0, 0, 1, 2])"
      ]
     },
     "execution_count": 18,
     "metadata": {},
     "output_type": "execute_result"
    }
   ],
   "source": [
    "%time clf.predict(X_test)"
   ]
  },
  {
   "cell_type": "code",
   "execution_count": 19,
   "metadata": {
    "colab": {
     "base_uri": "https://localhost:8080/"
    },
    "executionInfo": {
     "elapsed": 720,
     "status": "ok",
     "timestamp": 1616934441629,
     "user": {
      "displayName": "Илья Масс",
      "photoUrl": "https://lh3.googleusercontent.com/a-/AOh14GjM5Fjc7m_HIEisgp40fqxYlhZv3a1KT_fvSvN0QQ=s64",
      "userId": "12667925809638384937"
     },
     "user_tz": -180
    },
    "id": "JhH3yGF9_Sj9",
    "outputId": "feffa443-c603-4a27-ee04-f5bf4e417757"
   },
   "outputs": [
    {
     "name": "stdout",
     "output_type": "stream",
     "text": [
      "CPU times: user 2.87 ms, sys: 0 ns, total: 2.87 ms\n",
      "Wall time: 2.26 ms\n"
     ]
    },
    {
     "data": {
      "text/plain": [
       "array([2, 2, 1, 2, 1, 2, 0, 0, 1, 0, 1, 0, 0, 1, 2])"
      ]
     },
     "execution_count": 19,
     "metadata": {},
     "output_type": "execute_result"
    }
   ],
   "source": [
    "%time my_clf.predict(X_test)"
   ]
  },
  {
   "cell_type": "code",
   "execution_count": 20,
   "metadata": {
    "id": "gkppge1h_Sj-"
   },
   "outputs": [],
   "source": [
    "sklearn_pred = clf.predict(X_test)\n",
    "my_clf_pred = my_clf.predict(X_test)\n",
    "assert abs( accuracy_score(y_test, my_clf_pred) -  accuracy_score(y_test, sklearn_pred ) )<0.005, \"Score must be simillar\""
   ]
  },
  {
   "cell_type": "markdown",
   "metadata": {
    "id": "RGA77rsq_Sj-"
   },
   "source": [
    "**Задание 4 (2.5 балла)**\n",
    "\n",
    "Рассмотрим новый датасет 20 newsgroups"
   ]
  },
  {
   "cell_type": "code",
   "execution_count": 21,
   "metadata": {
    "id": "U-BDn9QD_Sj-"
   },
   "outputs": [],
   "source": [
    "newsgroups = fetch_20newsgroups(subset='train',remove=['headers','footers', 'quotes'])"
   ]
  },
  {
   "cell_type": "code",
   "execution_count": 22,
   "metadata": {
    "id": "HL5Zk3Rx_Sj-"
   },
   "outputs": [],
   "source": [
    "data = newsgroups['data']\n",
    "target = newsgroups['target']"
   ]
  },
  {
   "cell_type": "markdown",
   "metadata": {
    "id": "7ckbr-lt_Sj-"
   },
   "source": [
    "Преобразуйте текстовые данные из data с помощью [CountVectorizer](https://scikit-learn.org/stable/modules/generated/sklearn.feature_extraction.text.CountVectorizer.html). Словарь можно ограничить по частотности."
   ]
  },
  {
   "cell_type": "code",
   "execution_count": 23,
   "metadata": {
    "id": "VyRMb4N_zOV5"
   },
   "outputs": [],
   "source": [
    " from sklearn.feature_extraction.text import CountVectorizer\n",
    " from sklearn.feature_extraction.text import TfidfVectorizer"
   ]
  },
  {
   "cell_type": "code",
   "execution_count": 24,
   "metadata": {
    "id": "uEBgTqO4_Sj-"
   },
   "outputs": [],
   "source": [
    "vectorizer = TfidfVectorizer(max_features=1000) #TfidVectorizer эффективнее\n",
    "X = vectorizer.fit_transform(data)\n",
    "X_train, X_test, y_train, y_test = train_test_split(X, target, test_size=0.4)"
   ]
  },
  {
   "cell_type": "markdown",
   "metadata": {
    "id": "mK7XCEVT_Sj_"
   },
   "source": [
    "*Так мы получили векторное представление наших текстов. Значит можно приступать к задаче обучения модели*"
   ]
  },
  {
   "cell_type": "markdown",
   "metadata": {
    "id": "mPrdrvk8_Sj_"
   },
   "source": [
    "Реализуйте разбиение выборки для кросс-валидации на 3 фолдах. Разрешено использовать sklearn.cross_validation"
   ]
  },
  {
   "cell_type": "code",
   "execution_count": 26,
   "metadata": {
    "id": "rb5X30P0_Sj_"
   },
   "outputs": [],
   "source": [
    "clf = KNeighborsClassifier(n_neighbors=3, algorithm='brute')\n",
    "my_clf = MyKNeighborsClassifier(n_neighbors=2, algorithm='kd_tree')"
   ]
  },
  {
   "cell_type": "code",
   "execution_count": 27,
   "metadata": {
    "colab": {
     "base_uri": "https://localhost:8080/"
    },
    "executionInfo": {
     "elapsed": 2914,
     "status": "ok",
     "timestamp": 1616937208831,
     "user": {
      "displayName": "Илья Масс",
      "photoUrl": "https://lh3.googleusercontent.com/a-/AOh14GjM5Fjc7m_HIEisgp40fqxYlhZv3a1KT_fvSvN0QQ=s64",
      "userId": "12667925809638384937"
     },
     "user_tz": -180
    },
    "id": "hM7bWLYn_Sj_",
    "outputId": "e818b689-9eb3-4cd8-fec5-52a01657bdf2"
   },
   "outputs": [
    {
     "data": {
      "text/plain": [
       "0.18444227470999988"
      ]
     },
     "execution_count": 27,
     "metadata": {},
     "output_type": "execute_result"
    }
   ],
   "source": [
    "scores = cross_val_score(clf, X_train, y_train, cv = 3)\n",
    "scores.mean()"
   ]
  },
  {
   "cell_type": "markdown",
   "metadata": {
    "id": "YUhSKfGo_Sj_"
   },
   "source": [
    "Напишите метод, позволяющий найти оптимальное количество ближайших соседей(дающее максимальную точность в среднем на валидации на 3 фолдах).\n",
    "Постройте график зависимости средней точности от количества соседей. Можно рассмотреть число соседей от 1 до 10."
   ]
  },
  {
   "cell_type": "code",
   "execution_count": 28,
   "metadata": {
    "colab": {
     "base_uri": "https://localhost:8080/",
     "height": 369
    },
    "executionInfo": {
     "elapsed": 23747,
     "status": "ok",
     "timestamp": 1616937238063,
     "user": {
      "displayName": "Илья Масс",
      "photoUrl": "https://lh3.googleusercontent.com/a-/AOh14GjM5Fjc7m_HIEisgp40fqxYlhZv3a1KT_fvSvN0QQ=s64",
      "userId": "12667925809638384937"
     },
     "user_tz": -180
    },
    "id": "0VmU4EWD_Sj_",
    "outputId": "4ddb8304-c1a1-4d63-f5f5-92bee2ad4cca"
   },
   "outputs": [
    {
     "data": {
      "image/png": "[encoded data removed]",
      "text/plain": [
       "<Figure size 402.25x360 with 1 Axes>"
      ]
     },
     "metadata": {
      "needs_background": "light"
     },
     "output_type": "display_data"
    }
   ],
   "source": [
    "size = 10\n",
    "arr = np.zeros(size).reshape(size, 1)\n",
    "for i in range (1, size+1):\n",
    "    clf = KNeighborsClassifier(n_neighbors=i, metric='cosine')\n",
    "    scores = cross_val_score(clf, X_train, y_train, cv = 3)\n",
    "    score = scores.mean()\n",
    "    arr[i-1] = score\n",
    "plot = sns.relplot(data = arr)"
   ]
  },
  {
   "cell_type": "markdown",
   "metadata": {
    "id": "lbmt2g4b_SkA"
   },
   "source": [
    "Как изменится качество на валидации, если:\n",
    "\n",
    "1. Используется косинусная метрика вместо евклидовой.\n",
    "2. К текстам применяется TfIdf векторизацию( sklearn.feature_extraction.text.TfidfVectorizer)\n",
    "\n",
    "Сравните модели, выберите лучшую."
   ]
  },
  {
   "cell_type": "code",
   "execution_count": null,
   "metadata": {
    "id": "64ctxet96Zcc"
   },
   "outputs": [],
   "source": [
    "# k = 9, metric = cosine, vectorizer = TfidfVectorizer"
   ]
  },
  {
   "cell_type": "markdown",
   "metadata": {
    "id": "8oPTxSEO_SkA"
   },
   "source": [
    "Загрузим  теперь test  часть нашей выборки и преобразуем её аналогично с train частью. Не забудьте, что наборы слов в train и test части могут отличаться."
   ]
  },
  {
   "cell_type": "markdown",
   "metadata": {
    "id": "iCrPVTe4_SkA"
   },
   "source": [
    "Оценим точность вашей лучшей модели на test части датасета. Отличается ли оно от кросс-валидации? Попробуйте сделать выводы, почему отличается качество."
   ]
  },
  {
   "cell_type": "code",
   "execution_count": 31,
   "metadata": {
    "id": "Hv1P8kr1_SkA"
   },
   "outputs": [],
   "source": [
    "newsgroups = fetch_20newsgroups(subset='train',remove=['headers','footers', 'quotes'])\n",
    "data = newsgroups['data']\n",
    "target = newsgroups['target']\n"
   ]
  },
  {
   "cell_type": "code",
   "execution_count": 32,
   "metadata": {
    "colab": {
     "base_uri": "https://localhost:8080/"
    },
    "executionInfo": {
     "elapsed": 4237,
     "status": "ok",
     "timestamp": 1616937268578,
     "user": {
      "displayName": "Илья Масс",
      "photoUrl": "https://lh3.googleusercontent.com/a-/AOh14GjM5Fjc7m_HIEisgp40fqxYlhZv3a1KT_fvSvN0QQ=s64",
      "userId": "12667925809638384937"
     },
     "user_tz": -180
    },
    "id": "_MMsxIig8esO",
    "outputId": "74508bbf-d09f-497a-ba0d-28f4838e4f75"
   },
   "outputs": [
    {
     "data": {
      "text/plain": [
       "0.42996022978347326"
      ]
     },
     "execution_count": 32,
     "metadata": {},
     "output_type": "execute_result"
    }
   ],
   "source": [
    "vectorizer = TfidfVectorizer(max_features=1000)\n",
    "X = vectorizer.fit_transform(data)\n",
    "X_train, X_test, y_train, y_test = train_test_split(X, target, test_size=0.2)\n",
    "clf = KNeighborsClassifier(n_neighbors=10, metric='cosine')\n",
    "clf.fit(X_train, y_train)\n",
    "pred = clf.predict(X_test)\n",
    "accuracy_score(y_test,pred)"
   ]
  }
 ],
 "metadata": {
  "colab": {
   "collapsed_sections": [],
   "name": "hw1.ipynb",
   "provenance": [],
   "toc_visible": true
  },
  "kernelspec": {
   "display_name": "Python 3",
   "language": "python",
   "name": "python3"
  },
  "language_info": {
   "codemirror_mode": {
    "name": "ipython",
    "version": 3
   },
   "file_extension": ".py",
   "mimetype": "text/x-python",
   "name": "python",
   "nbconvert_exporter": "python",
   "pygments_lexer": "ipython3",
   "version": "3.7.10"
  }
 },
 "nbformat": 4,
 "nbformat_minor": 1
}
